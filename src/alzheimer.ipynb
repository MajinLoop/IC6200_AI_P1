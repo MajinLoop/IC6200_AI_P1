{
 "cells": [
  {
   "cell_type": "markdown",
   "id": "1e57f60a-8378-4ef6-be78-11af6ad6ad41",
   "metadata": {},
   "source": [
    "<!-- PROJECT LOGO -->\n",
    "<br />\n",
    "<div align=\"center\">\n",
    "  <a>\n",
    "    <img src=\"https://res.cloudinary.com/dek4evg4t/image/upload/v1725947133/Frame_10508.png\" alt=\"Logo\" width=\"40%\">\n",
    "  </a>\n",
    "</div>\n",
    "\n",
    "\n",
    "### 🖹 Descripción: \n",
    "Este notebook tiene como objetivo principal aplicar diversas técnicas de clasificación de datos en el conjunto de datos, titulado [Alzheimer Features](https://www.kaggle.com/datasets/brsdincer/alzheimer-features), el cual está enfocado en la clasificación binaria de pacientes con Alzheimer. Este conjunto fue seleccionado por su relevancia en la predicción de enfermedades neurológicas, utilizando datos tabulares para la creación de modelos diagnósticos eficaces. La elección de este conjunto se basa en su capacidad para enriquecer el análisis comparativo entre diferentes patologías, lo que permite profundizar en la aplicación de técnicas de clasificación en distintos contextos médicos.\n",
    "\n",
    "### ✍️ Autores: \n",
    "* Angelo Ortiz Vega - [@angelortizv](https://github.com/angelortizv)\n",
    "* Alejandro Campos Abarca - [@MajinLoop](https://github.com/MajinLoop)\n",
    "\n",
    "### 📅 Fecha: \n",
    "12 de septiembre de 2024\n",
    "\n",
    "### 📝 Notas: \n",
    "Este notebook es el segundo de dos que forman parte del primer proyecto del curso IC6200 - Inteligencia Artificial. Este notebook está titulado \"alzheimer\", mientras que el siguiente se llama \"diabetes\".\n",
    "\n",
    "### Otras notas:\n",
    "- Asegurarse de que Python esté instalado, junto con las bibliotecas necesarias: pandas, numpy, matplotlib, seaborn, scipy, ydata_profiling, utils.\n"
   ]
  },
  {
   "cell_type": "markdown",
   "id": "02c7fa7e-713c-446a-893f-984160ec5902",
   "metadata": {},
   "source": [
    "# 1. Importación de Librerías"
   ]
  },
  {
   "cell_type": "code",
   "execution_count": 462,
   "id": "3dca69ed-bc5d-4b74-88d1-3db699c1736a",
   "metadata": {},
   "outputs": [
    {
     "data": {
      "text/plain": [
       "<module 'Utils' from 'd:\\\\D\\\\TEC\\\\2024\\\\S2\\\\IA\\\\Repos\\\\IC6200_AI_P1\\\\IC6200_AI_P1\\\\src\\\\Utils.py'>"
      ]
     },
     "execution_count": 462,
     "metadata": {},
     "output_type": "execute_result"
    }
   ],
   "source": [
    "import sys\n",
    "import os\n",
    "from pathlib import Path\n",
    "\n",
    "import numpy as np\n",
    "import pandas as pd\n",
    "from scipy import stats\n",
    "from scipy.stats import shapiro\n",
    "import statsmodels.api as sm\n",
    "\n",
    "from sklearn.metrics import confusion_matrix\n",
    "from sklearn.neighbors import KNeighborsClassifier\n",
    "from sklearn.neighbors import KNeighborsRegressor\n",
    "from sklearn.model_selection import train_test_split\n",
    "from sklearn.model_selection import GridSearchCV\n",
    "from sklearn.model_selection import cross_val_score\n",
    "from sklearn.metrics import accuracy_score\n",
    "from sklearn.metrics import precision_score\n",
    "from sklearn.metrics import recall_score\n",
    "from sklearn.metrics import f1_score\n",
    "from sklearn.metrics import classification_report\n",
    "from sklearn.metrics import confusion_matrix, roc_curve, auc, roc_auc_score\n",
    "from sklearn.preprocessing import StandardScaler\n",
    "from sklearn.preprocessing import LabelEncoder\n",
    "from sklearn.linear_model import LogisticRegression\n",
    "\n",
    "import matplotlib.pyplot as plt\n",
    "import seaborn as sns\n",
    "\n",
    "from ydata_profiling import ProfileReport\n",
    "from IPython.display import display, HTML\n",
    "\n",
    "from enum import Enum\n",
    "import random\n",
    "\n",
    "import Utils as U\n",
    "import importlib\n",
    "importlib.reload(U)"
   ]
  },
  {
   "cell_type": "markdown",
   "id": "5f9fbe00-ffcb-4533-93f0-0a9d215da7ec",
   "metadata": {},
   "source": [
    "# 2. Definición de Constantes"
   ]
  },
  {
   "cell_type": "code",
   "execution_count": 463,
   "id": "7fb45fa5-88df-4d95-ba17-949cc085d7c8",
   "metadata": {},
   "outputs": [],
   "source": [
    "FILENAME_A = \"./data/alzheimer.csv\"\n",
    "\n",
    "SHUFFLE_SEED = 153\n",
    "COLOR_SEED = 666\n",
    "PD_MAX_ROWS = 10\n",
    "PD_MAX_WIDTH = 400\n",
    "\n",
    "TRAINING_CUT = 0.7 # 70%\n",
    "SCIKIT_LEARN_RANDOM_STATE = 73"
   ]
  },
  {
   "cell_type": "markdown",
   "id": "063a639a-47c5-44b9-ba51-1d589970e2e0",
   "metadata": {},
   "source": [
    "# 3. Configuración ploteo pandas"
   ]
  },
  {
   "cell_type": "code",
   "execution_count": 464,
   "id": "2ac62a63-dbad-4576-9e58-5e9cffab5842",
   "metadata": {},
   "outputs": [],
   "source": [
    "pd.set_option('display.max_rows', PD_MAX_ROWS)\n",
    "pd.set_option('display.width', PD_MAX_WIDTH)\n",
    "\n",
    "pd.set_option('future.no_silent_downcasting', True)"
   ]
  },
  {
   "cell_type": "markdown",
   "id": "16158a71-3832-42bb-9fac-5b919420f361",
   "metadata": {},
   "source": [
    "# 4. Definición de funciones auxiliares"
   ]
  },
  {
   "cell_type": "code",
   "execution_count": 465,
   "id": "de41b5d7-89ac-454b-bc03-d2ac5cc3c76a",
   "metadata": {},
   "outputs": [],
   "source": [
    "def print_column_types(df):\n",
    "    print(\"Column types:\")\n",
    "    for column in df.columns:\n",
    "        col_name = column.ljust(30)\n",
    "        col_type = df[column].dtype\n",
    "        print(f\"{col_name} {col_type}\")\n",
    "\n",
    "def print_scores(y_true, y_pred):\n",
    "    # Accuracy\n",
    "    accuracy = accuracy_score(y_true, y_pred)\n",
    "    print(f\"Accuracy: {accuracy:.2f}\")\n",
    "\n",
    "    # Presition\n",
    "    precision = precision_score(y_true, y_pred)\n",
    "    print(f\"Precision: {precision:.2f}\")\n",
    "    \n",
    "    # Recall\n",
    "    recall = recall_score(y_true, y_pred)\n",
    "    print(f\"Recall: {recall:.2f}\")\n",
    "\n",
    "    # Calcular F1 Score\n",
    "    f1 = f1_score(y_true, y_pred)\n",
    "    print(f\"F1 Score: {f1:.2f}\")\n",
    "\n",
    "    print()"
   ]
  },
  {
   "cell_type": "markdown",
   "id": "49dc38f2-3f5c-4aca-b196-b02d9e969b80",
   "metadata": {},
   "source": [
    "# 5. Definición de estructuras auxiliares"
   ]
  },
  {
   "cell_type": "code",
   "execution_count": 466,
   "id": "d4bdc388-8acd-4bb1-a9fa-3a7c13e7c057",
   "metadata": {},
   "outputs": [],
   "source": [
    "class Custom_Dataframe:\n",
    "    def __init__(self, name, df, tag_col_name, features_col_names):\n",
    "        self.name = name\n",
    "        self.df = df\n",
    "        self.tag_col_name = tag_col_name\n",
    "        self.features_col_names = features_col_names\n",
    "\n",
    "\n",
    "    def get_x(self):\n",
    "        return self.df[self.features_col_names]\n",
    "\n",
    "\n",
    "    def get_y(self):\n",
    "        return self.df[self.tag_col_name]\n",
    "\n",
    "\n",
    "    def cast_col(self, col_name, t: type):\n",
    "        # t -> int, float, str\n",
    "        self.df[col_name] = self.df[col_name].astype(t)\n",
    "\n",
    "\n",
    "    def replace_col_values(self, replace_dict, col_name):\n",
    "        df = self.df\n",
    "        df[col_name] = df[col_name].replace(replace_dict)\n",
    "\n",
    "\n",
    "    def append_col(self, new_col_name, new_col_values):\n",
    "        self.df[new_col_name] = new_col_values\n",
    "\n",
    "\n",
    "    def show_compare(self, y_pred):\n",
    "        df_temp = pd.concat([pd.Series(self.df[self.tag_col_name].reset_index(drop=True), name='y_true'), pd.Series(y_pred, name='y_pred').reset_index(drop=True)], axis=1)\n",
    "        print(df_temp)\n",
    "\n",
    "\n",
    "    def reduce_dimesionality(self, columns_to_keep):\n",
    "        self.df = self.df[columns_to_keep]\n",
    "        columns_to_keep.remove(self.tag_col_name)\n",
    "        self.features_col_names = columns_to_keep\n",
    "\n",
    "\n",
    "    def remove_col_outliers(self, col_name):\n",
    "        # IQR\n",
    "        Q1 = self.df[col_name].quantile(0.25)\n",
    "        Q3 = self.df[col_name].quantile(0.75)\n",
    "        IQR = Q3 - Q1\n",
    "\n",
    "        min_value = Q1 - 1.5 * IQR\n",
    "        max_value = Q3 + 1.5 * IQR\n",
    "\n",
    "        self.df = self.df[(self.df[col_name] >= min_value) & (self.df[col_name] <= max_value)]\n",
    "\n",
    "\n",
    "    def remove_cols_outliers(self, col_names):\n",
    "        for col_name in col_names:\n",
    "            self.remove_col_outliers(col_name)\n",
    "\n",
    "\n",
    "    def remove_NaN(self):\n",
    "        self.df = self.df.dropna()\n",
    "\n",
    "\n",
    "    def get_NaN(self):\n",
    "        return self.df[self.df.isna().any(axis=1)]\n",
    "\n",
    "\n",
    "    def get_NaN_by_count(self, NaN_count):\n",
    "        return self.df[self.df.isnull().sum(axis=1) >= NaN_count]\n",
    "\n",
    "\n",
    "    def show(self):\n",
    "        print(self.name)\n",
    "        print(self.df)\n",
    "\n",
    "        # Check types\n",
    "        print_column_types(self.df)\n",
    "\n",
    "        print()\n",
    "\n",
    "        # Check unique tags\n",
    "        self.print_unique_tags()        \n",
    "        print()\n",
    "        print()\n",
    "\n",
    "\n",
    "    def print_unique_tags(self):\n",
    "        tags = self.df[self.tag_col_name].unique()\n",
    "        print(f\"Tags: {tags}\")\n",
    "\n",
    "\n",
    "    def print_tags_balance(self):\n",
    "        print(self.name)\n",
    "        total_rows = self.df.shape[0]\n",
    "        print(f\"Total rows = {total_rows}\")\n",
    "        tags = self.df[self.tag_col_name].unique()\n",
    "        for tag in tags:\n",
    "            count = self.df[self.df[self.tag_col_name] == tag].shape[0]\n",
    "            percentage = 100 * count / total_rows\n",
    "            formatted_percentage = \"{:.2f}\".format(percentage)\n",
    "            print(f\"Tag: {tag} -> {count} Rows ({formatted_percentage}%)\")\n",
    "\n",
    "\n",
    "class CYBERPUNK_COLORS(Enum):\n",
    "    Red             = \"#e74150\"\n",
    "    Yellow          = \"#fee801\"\n",
    "    Green           = \"#00ff9f\"\n",
    "    Dark_Blue       = \"#005678\"\n",
    "    Night           = \"#01012b\"\n",
    "    Cyan            = \"#00ffe3\"\n",
    "    Red_Fuchsia     = \"#ff1e61\"\n",
    "    Pink_Fuchsia    = \"#ff008d\"\n",
    "\n",
    "    @classmethod\n",
    "    def get_random_color(self, seed):\n",
    "        random.seed(seed)        \n",
    "        color_list = list(CYBERPUNK_COLORS)        \n",
    "        selected_color = random.choice(color_list)\n",
    "        return selected_color.value\n",
    "\n",
    "class SEABORN_COLORMAPS(Enum):\n",
    "    Viridis         = \"viridis\"\n",
    "    Plasma          = \"plasma\"\n",
    "    Inferno         = \"inferno\"\n",
    "    Magma           = \"magma\"\n",
    "    Cividis         = \"cividis\"\n",
    "    Blues           = \"Blues\"\n",
    "    Greens          = \"Greens\"\n",
    "    Reds            = \"Reds\"\n",
    "    Coolwarm        = \"coolwarm\"\n",
    "    Spectral        = \"Spectral\"\n",
    "    RdYlBu          = \"RdYlBu\"\n",
    "    RdBu            = \"RdBu\"\n",
    "    PiYG            = \"PiYG\"\n",
    "    PRGn            = \"PRGn\"\n",
    "    BrBG            = \"BrBG\"\n",
    "\n",
    "    @classmethod\n",
    "    def get_random_colormap(cls, seed=None):\n",
    "        if seed is not None:\n",
    "            random.seed(seed)        \n",
    "        colormap_list = list(SEABORN_COLORMAPS)        \n",
    "        selected_colormap = random.choice(colormap_list)\n",
    "        return selected_colormap.value"
   ]
  },
  {
   "cell_type": "markdown",
   "id": "93c95a93-9025-40c4-8960-afa07d178cc9",
   "metadata": {},
   "source": [
    "# 6. Creación del dataframe principal"
   ]
  },
  {
   "cell_type": "code",
   "execution_count": 467,
   "id": "e3533b5a-7fca-4251-8fc4-ea6cdf7c1e70",
   "metadata": {},
   "outputs": [],
   "source": [
    "# https://www.kaggle.com/datasets/brsdincer/alzheimer-features\n",
    "\n",
    "def gen_cdf(filename, tag_col_name):\n",
    "    filepath = Path(filename)\n",
    "\n",
    "    # Checks read and the file\n",
    "    if filepath.is_file():\n",
    "        # Read .csv\n",
    "        df = pd.read_csv(filepath)\n",
    "        # Get non-tag columns\n",
    "        features_col_names = [col for col in df.columns if col != tag_col_name]\n",
    "\n",
    "        # Dataframe is shuffled to ease bias\n",
    "        df = df.sample(frac=1, random_state=SHUFFLE_SEED).reset_index(drop=True)\n",
    "\n",
    "        # Create Dataframe class instance\n",
    "        cdf = Custom_Dataframe(filename, df, tag_col_name, features_col_names)\n",
    "        #cdf.show()\n",
    "\n",
    "        return cdf\n",
    "    else:\n",
    "        print(f\"Need the file named: {filename}\")\n",
    "\n",
    "cdfa = gen_cdf(FILENAME_A, \"Group\")"
   ]
  },
  {
   "cell_type": "markdown",
   "id": "e21b7ac7-39ea-4bdc-bc22-3d1cfa572289",
   "metadata": {},
   "source": [
    "# 7. Manipulación de datos"
   ]
  },
  {
   "cell_type": "markdown",
   "id": "264e31b2-7cf3-47b6-9952-5983549d9182",
   "metadata": {},
   "source": [
    "## 7.1. Manejo de valores de tags \n",
    "\n",
    "En este caso se eliminaron las filas del dataset \"Alzheimer\" con la etiqueta \"Converted\"."
   ]
  },
  {
   "cell_type": "code",
   "execution_count": 468,
   "id": "5e69b272-a7f3-4520-b31d-4d1938e997da",
   "metadata": {},
   "outputs": [
    {
     "name": "stdout",
     "output_type": "stream",
     "text": [
      "./data/alzheimer.csv\n",
      "           Group M/F  Age  EDUC  SES  MMSE  CDR  eTIV   nWBV    ASF\n",
      "0       Demented   M   81    20  1.0  26.0  0.5  1556  0.691  1.128\n",
      "1    Nondemented   M   85    12  3.0  30.0  0.0  1820  0.755  0.964\n",
      "2    Nondemented   F   60    18  1.0  30.0  0.0  1402  0.822  1.252\n",
      "4       Demented   F   73    13  2.0  23.0  0.5  1536  0.725  1.142\n",
      "6       Demented   F   75    13  2.0  28.0  0.5  1520  0.708  1.155\n",
      "..           ...  ..  ...   ...  ...   ...  ...   ...    ...    ...\n",
      "368  Nondemented   F   84    16  3.0  28.0  0.0  1500  0.744  1.170\n",
      "369  Nondemented   M   74    18  1.0  29.0  0.0  1814  0.679  0.967\n",
      "370     Demented   M   70    16  3.0  29.0  0.5  1463  0.749  1.200\n",
      "371  Nondemented   F   70    14  3.0  29.0  0.0  1524  0.787  1.151\n",
      "372  Nondemented   F   77    16  2.0  29.0  0.0  1433  0.723  1.225\n",
      "\n",
      "[336 rows x 10 columns]\n",
      "Column types:\n",
      "Group                          object\n",
      "M/F                            object\n",
      "Age                            int64\n",
      "EDUC                           int64\n",
      "SES                            float64\n",
      "MMSE                           float64\n",
      "CDR                            float64\n",
      "eTIV                           int64\n",
      "nWBV                           float64\n",
      "ASF                            float64\n",
      "\n",
      "Tags: ['Demented' 'Nondemented']\n",
      "\n",
      "\n"
     ]
    }
   ],
   "source": [
    "cdfa.df = cdfa.df[cdfa.df['Group'] != 'Converted']\n",
    "cdfa.show()"
   ]
  },
  {
   "cell_type": "markdown",
   "id": "153ad620-4aa3-4c71-82d2-fb5c30141b38",
   "metadata": {},
   "source": [
    "## 7.2. Convertir las columnas del dataframe\n",
    "\n",
    "Para la mayoría de los modelos, es necesario que los valores sean numéricos."
   ]
  },
  {
   "cell_type": "code",
   "execution_count": 469,
   "id": "543388ea-3f49-42d1-ab59-9e0d400da6b1",
   "metadata": {},
   "outputs": [
    {
     "name": "stdout",
     "output_type": "stream",
     "text": [
      "./data/alzheimer.csv\n",
      "    Group M/F  Age  EDUC  SES  MMSE  CDR  eTIV   nWBV    ASF\n",
      "0       1   1   81    20  1.0  26.0  0.5  1556  0.691  1.128\n",
      "1       0   1   85    12  3.0  30.0  0.0  1820  0.755  0.964\n",
      "2       0   0   60    18  1.0  30.0  0.0  1402  0.822  1.252\n",
      "4       1   0   73    13  2.0  23.0  0.5  1536  0.725  1.142\n",
      "6       1   0   75    13  2.0  28.0  0.5  1520  0.708  1.155\n",
      "..    ...  ..  ...   ...  ...   ...  ...   ...    ...    ...\n",
      "368     0   0   84    16  3.0  28.0  0.0  1500  0.744  1.170\n",
      "369     0   1   74    18  1.0  29.0  0.0  1814  0.679  0.967\n",
      "370     1   1   70    16  3.0  29.0  0.5  1463  0.749  1.200\n",
      "371     0   0   70    14  3.0  29.0  0.0  1524  0.787  1.151\n",
      "372     0   0   77    16  2.0  29.0  0.0  1433  0.723  1.225\n",
      "\n",
      "[336 rows x 10 columns]\n",
      "Column types:\n",
      "Group                          object\n",
      "M/F                            object\n",
      "Age                            int64\n",
      "EDUC                           int64\n",
      "SES                            float64\n",
      "MMSE                           float64\n",
      "CDR                            float64\n",
      "eTIV                           int64\n",
      "nWBV                           float64\n",
      "ASF                            float64\n",
      "\n",
      "Tags: [1 0]\n",
      "\n",
      "\n"
     ]
    }
   ],
   "source": [
    "cdfa.replace_col_values({'Nondemented': 0, 'Demented': 1}, cdfa.tag_col_name)\n",
    "cdfa.replace_col_values({'F': 0, 'M': 1}, \"M/F\")\n",
    "cdfa.show()"
   ]
  },
  {
   "cell_type": "markdown",
   "id": "af28ad97-f9eb-4fdb-8b57-b979d65d3ef8",
   "metadata": {},
   "source": [
    "## 7.3. Revisión de clases\n",
    "\n",
    "Se verifican si las clases son adecuadas para la regresión logísticas y si están equilibradas."
   ]
  },
  {
   "cell_type": "code",
   "execution_count": 470,
   "id": "1d8a45e3-127e-4235-b60a-b884356d7fde",
   "metadata": {},
   "outputs": [
    {
     "name": "stdout",
     "output_type": "stream",
     "text": [
      "./data/alzheimer.csv\n",
      "Total rows = 336\n",
      "Tag: 1 -> 146 Rows (43.45%)\n",
      "Tag: 0 -> 190 Rows (56.55%)\n"
     ]
    }
   ],
   "source": [
    "cdfa.print_tags_balance()"
   ]
  },
  {
   "cell_type": "markdown",
   "id": "d1577396-bf2b-4cf4-a61a-8fc83843c234",
   "metadata": {},
   "source": [
    "# 8. Exploratory Data Analysis (EDA)"
   ]
  },
  {
   "cell_type": "markdown",
   "id": "d655be80-1bd8-4330-83b9-d7d61792ce23",
   "metadata": {},
   "source": [
    "## 8.1. Informe de correlación de características de Alzheimer"
   ]
  },
  {
   "cell_type": "code",
   "execution_count": 471,
   "id": "f05ccb36-01e4-46f0-b594-175a56e5d167",
   "metadata": {},
   "outputs": [
    {
     "name": "stdout",
     "output_type": "stream",
     "text": [
      "The file './reports/Alzheimer_Profiling_Report.html' already exists.\n",
      "          Group       M/F       Age      EDUC       SES      MMSE       CDR      eTIV      nWBV       ASF\n",
      "Group  1.000000  0.267781 -0.052000 -0.251761  0.164715 -0.611906  0.857218 -0.026625 -0.327277  0.020529\n",
      "M/F    0.267781  1.000000 -0.063567  0.043633 -0.027069 -0.181244  0.205445  0.559698 -0.224322 -0.549123\n",
      "Age   -0.052000 -0.063567  1.000000 -0.049768 -0.005012  0.045243 -0.033968  0.039135 -0.488989 -0.027714\n",
      "EDUC  -0.251761  0.043633 -0.049768  1.000000 -0.733018  0.194574 -0.171576  0.257431  0.023647 -0.241982\n",
      "SES    0.164715 -0.027069 -0.005012 -0.733018  1.000000 -0.135219  0.086957 -0.289781  0.048502  0.282657\n",
      "MMSE  -0.611906 -0.181244  0.045243  0.194574 -0.135219  1.000000 -0.703969 -0.033561  0.370782  0.044231\n",
      "CDR    0.857218  0.205445 -0.033968 -0.171576  0.086957 -0.703969  1.000000  0.009362 -0.350542 -0.016556\n",
      "eTIV  -0.026625  0.559698  0.039135  0.257431 -0.289781 -0.033561  0.009362  1.000000 -0.198849 -0.988503\n",
      "nWBV  -0.327277 -0.224322 -0.488989  0.023647  0.048502  0.370782 -0.350542 -0.198849  1.000000  0.200549\n",
      "ASF    0.020529 -0.549123 -0.027714 -0.241982  0.282657  0.044231 -0.016556 -0.988503  0.200549  1.000000\n"
     ]
    },
    {
     "data": {
      "image/png": "[encoded data removed]",
      "text/plain": [
       "<Figure size 800x600 with 2 Axes>"
      ]
     },
     "metadata": {},
     "output_type": "display_data"
    }
   ],
   "source": [
    "def gen_correlation_report(cdf, report_name, cmap=False):\n",
    "    if os.path.isfile(report_name):\n",
    "        print(f\"The file '{report_name}' already exists.\")\n",
    "    else:\n",
    "        profile = ProfileReport(cdf.df, title=\"Diabetes Profiling Report\")\n",
    "        profile.to_file(output_file=report_name)\n",
    "        # display(HTML(file_name))\n",
    "\n",
    "    # Access correlation matrix\n",
    "    correlation_matrix = cdf.df.corr()\n",
    "    print(correlation_matrix)\n",
    "\n",
    "    if(cmap != False):\n",
    "        # Heatmap\n",
    "        plt.figure(figsize=(8, 6))\n",
    "        sns.heatmap(correlation_matrix, annot=True, cmap=cmap, fmt='.2f', linewidths=0.5, vmin=-1, vmax=1)\n",
    "\n",
    "        plt.title('Correlation matrix', fontsize=16)\n",
    "        plt.show()\n",
    "\n",
    "gen_correlation_report(cdfa, \"./reports/Alzheimer_Profiling_Report.html\", SEABORN_COLORMAPS.Coolwarm.value)"
   ]
  },
  {
   "cell_type": "markdown",
   "id": "7ef483c1-2bed-4126-8dfe-a84b5d77b8d9",
   "metadata": {},
   "source": [
    "# 9. Reducción de dimensionalidad"
   ]
  },
  {
   "cell_type": "code",
   "execution_count": 472,
   "id": "78b3b68a-4a13-4c94-8159-8e39345a70f6",
   "metadata": {},
   "outputs": [
    {
     "name": "stdout",
     "output_type": "stream",
     "text": [
      "./data/alzheimer.csv\n",
      "     CDR M/F  SES Group\n",
      "0    0.5   1  1.0     1\n",
      "1    0.0   1  3.0     0\n",
      "2    0.0   0  1.0     0\n",
      "4    0.5   0  2.0     1\n",
      "6    0.5   0  2.0     1\n",
      "..   ...  ..  ...   ...\n",
      "368  0.0   0  3.0     0\n",
      "369  0.0   1  1.0     0\n",
      "370  0.5   1  3.0     1\n",
      "371  0.0   0  3.0     0\n",
      "372  0.0   0  2.0     0\n",
      "\n",
      "[336 rows x 4 columns]\n",
      "Column types:\n",
      "CDR                            float64\n",
      "M/F                            object\n",
      "SES                            float64\n",
      "Group                          object\n",
      "\n",
      "Tags: [1 0]\n",
      "\n",
      "\n"
     ]
    }
   ],
   "source": [
    "columns_to_keep = ['CDR', 'M/F', 'SES', 'Group']\n",
    "cdfa.reduce_dimesionality(columns_to_keep)\n",
    "\n",
    "cdfa.show()"
   ]
  },
  {
   "cell_type": "markdown",
   "id": "2d17be18",
   "metadata": {},
   "source": [
    "## Conversion de tipos"
   ]
  },
  {
   "cell_type": "code",
   "execution_count": 473,
   "id": "542cf980",
   "metadata": {},
   "outputs": [
    {
     "name": "stdout",
     "output_type": "stream",
     "text": [
      "./data/alzheimer.csv\n",
      "     CDR  M/F  SES  Group\n",
      "0    0.5    1  1.0      1\n",
      "1    0.0    1  3.0      0\n",
      "2    0.0    0  1.0      0\n",
      "4    0.5    0  2.0      1\n",
      "6    0.5    0  2.0      1\n",
      "..   ...  ...  ...    ...\n",
      "368  0.0    0  3.0      0\n",
      "369  0.0    1  1.0      0\n",
      "370  0.5    1  3.0      1\n",
      "371  0.0    0  3.0      0\n",
      "372  0.0    0  2.0      0\n",
      "\n",
      "[336 rows x 4 columns]\n",
      "Column types:\n",
      "CDR                            float64\n",
      "M/F                            int32\n",
      "SES                            float64\n",
      "Group                          int32\n",
      "\n",
      "Tags: [1 0]\n",
      "\n",
      "\n"
     ]
    }
   ],
   "source": [
    "cdfa.cast_col('M/F', int)\n",
    "cdfa.cast_col('Group', int)\n",
    "cdfa.show()"
   ]
  },
  {
   "cell_type": "markdown",
   "id": "11403602",
   "metadata": {},
   "source": [
    "## Revision de NaN/Nulos"
   ]
  },
  {
   "cell_type": "code",
   "execution_count": 474,
   "id": "98c29729",
   "metadata": {},
   "outputs": [
    {
     "name": "stdout",
     "output_type": "stream",
     "text": [
      "NaNs\n",
      "     CDR  M/F  SES  Group\n",
      "11   0.5    0  NaN      1\n",
      "29   1.0    1  NaN      1\n",
      "46   0.5    1  NaN      1\n",
      "93   0.5    1  NaN      1\n",
      "115  0.5    1  NaN      1\n",
      "..   ...  ...  ...    ...\n",
      "309  0.5    0  NaN      1\n",
      "322  0.5    1  NaN      1\n",
      "330  1.0    1  NaN      1\n",
      "342  1.0    0  NaN      1\n",
      "346  0.5    0  NaN      1\n",
      "\n",
      "[19 rows x 4 columns]\n",
      "./data/alzheimer.csv\n",
      "     CDR  M/F  SES  Group\n",
      "0    0.5    1  1.0      1\n",
      "1    0.0    1  3.0      0\n",
      "2    0.0    0  1.0      0\n",
      "4    0.5    0  2.0      1\n",
      "6    0.5    0  2.0      1\n",
      "..   ...  ...  ...    ...\n",
      "368  0.0    0  3.0      0\n",
      "369  0.0    1  1.0      0\n",
      "370  0.5    1  3.0      1\n",
      "371  0.0    0  3.0      0\n",
      "372  0.0    0  2.0      0\n",
      "\n",
      "[317 rows x 4 columns]\n",
      "Column types:\n",
      "CDR                            float64\n",
      "M/F                            int32\n",
      "SES                            float64\n",
      "Group                          int32\n",
      "\n",
      "Tags: [1 0]\n",
      "\n",
      "\n"
     ]
    }
   ],
   "source": [
    "print(\"NaNs\")\n",
    "print(cdfa.get_NaN())\n",
    "\n",
    "cdfa.remove_NaN()\n",
    "cdfa.show()"
   ]
  },
  {
   "cell_type": "markdown",
   "id": "0fae4f62",
   "metadata": {},
   "source": [
    "## Revision de outliers"
   ]
  },
  {
   "cell_type": "code",
   "execution_count": 475,
   "id": "520b37c8",
   "metadata": {},
   "outputs": [
    {
     "name": "stdout",
     "output_type": "stream",
     "text": [
      "./data/alzheimer.csv\n",
      "     CDR  M/F  SES  Group\n",
      "0    0.5    1  1.0      1\n",
      "1    0.0    1  3.0      0\n",
      "2    0.0    0  1.0      0\n",
      "4    0.5    0  2.0      1\n",
      "6    0.5    0  2.0      1\n",
      "..   ...  ...  ...    ...\n",
      "368  0.0    0  3.0      0\n",
      "369  0.0    1  1.0      0\n",
      "370  0.5    1  3.0      1\n",
      "371  0.0    0  3.0      0\n",
      "372  0.0    0  2.0      0\n",
      "\n",
      "[314 rows x 4 columns]\n",
      "Column types:\n",
      "CDR                            float64\n",
      "M/F                            int32\n",
      "SES                            float64\n",
      "Group                          int32\n",
      "\n",
      "Tags: [1 0]\n",
      "\n",
      "\n"
     ]
    }
   ],
   "source": [
    "cdfa.remove_cols_outliers(['CDR', 'M/F', 'SES'])\n",
    "cdfa.show()"
   ]
  },
  {
   "cell_type": "markdown",
   "id": "cf766c0d-8b0e-4d7b-9cc3-8b19e9f69a71",
   "metadata": {},
   "source": [
    "# 10. División del dataframe"
   ]
  },
  {
   "cell_type": "code",
   "execution_count": 476,
   "id": "efec75d7-7f3e-4793-8b45-848fe31d9dc3",
   "metadata": {},
   "outputs": [
    {
     "name": "stdout",
     "output_type": "stream",
     "text": [
      "Alzheimer Training Custom Dataframe\n",
      "     CDR  M/F  SES  Group\n",
      "183  1.0    0  3.0      1\n",
      "341  0.0    1  4.0      0\n",
      "366  0.0    0  3.0      0\n",
      "78   0.0    0  2.0      0\n",
      "297  0.0    0  2.0      0\n",
      "..   ...  ...  ...    ...\n",
      "210  0.5    1  3.0      1\n",
      "212  0.0    0  2.0      0\n",
      "193  0.0    1  1.0      0\n",
      "325  1.0    0  2.0      1\n",
      "169  0.5    1  4.0      1\n",
      "\n",
      "[219 rows x 4 columns]\n",
      "Column types:\n",
      "CDR                            float64\n",
      "M/F                            int32\n",
      "SES                            float64\n",
      "Group                          int32\n",
      "\n",
      "Tags: [1 0]\n",
      "\n",
      "\n",
      "Alzheimer Validation Custom Dataframe\n",
      "     CDR  M/F  SES  Group\n",
      "293  0.0    0  2.0      0\n",
      "334  0.0    0  1.0      0\n",
      "303  0.0    0  5.0      0\n",
      "261  0.5    1  2.0      1\n",
      "260  0.5    1  1.0      1\n",
      "..   ...  ...  ...    ...\n",
      "166  0.5    1  4.0      1\n",
      "139  1.0    1  3.0      1\n",
      "294  0.0    0  3.0      0\n",
      "132  0.0    0  2.0      0\n",
      "343  0.0    0  2.0      0\n",
      "\n",
      "[47 rows x 4 columns]\n",
      "Column types:\n",
      "CDR                            float64\n",
      "M/F                            int32\n",
      "SES                            float64\n",
      "Group                          int32\n",
      "\n",
      "Tags: [0 1]\n",
      "\n",
      "\n",
      "Alzheimer Testing Custom Dataframe\n",
      "     CDR  M/F  SES  Group\n",
      "38   0.0    1  4.0      0\n",
      "262  0.0    1  4.0      0\n",
      "371  0.0    0  3.0      0\n",
      "217  0.5    0  3.0      1\n",
      "71   0.0    0  2.0      0\n",
      "..   ...  ...  ...    ...\n",
      "2    0.0    0  1.0      0\n",
      "187  0.0    1  3.0      0\n",
      "182  0.5    0  3.0      1\n",
      "10   0.0    0  2.0      0\n",
      "324  0.0    0  1.0      0\n",
      "\n",
      "[48 rows x 4 columns]\n",
      "Column types:\n",
      "CDR                            float64\n",
      "M/F                            int32\n",
      "SES                            float64\n",
      "Group                          int32\n",
      "\n",
      "Tags: [0 1]\n",
      "\n",
      "\n"
     ]
    }
   ],
   "source": [
    "def tvt_df_split(df, test_size=0.3, validation_size=0.5, random_state=SCIKIT_LEARN_RANDOM_STATE):\n",
    "    train_df, aux_df = train_test_split(df, test_size=test_size, random_state=random_state)\n",
    "    validation_df, test_df = train_test_split(aux_df, test_size=validation_size, random_state=random_state)\n",
    "    return train_df, validation_df, test_df\n",
    "\n",
    "# Alzheimer custom dataframes\n",
    "train_dfa, validation_dfa, test_dfa = tvt_df_split(cdfa.df)\n",
    "\n",
    "train_cdfa = Custom_Dataframe(name=\"Alzheimer Training Custom Dataframe\", df=train_dfa, tag_col_name=cdfa.tag_col_name, features_col_names=cdfa.features_col_names)\n",
    "validation_cdfa = Custom_Dataframe(name=\"Alzheimer Validation Custom Dataframe\", df=validation_dfa, tag_col_name=cdfa.tag_col_name, features_col_names=cdfa.features_col_names)\n",
    "test_cdfa = Custom_Dataframe(name=\"Alzheimer Testing Custom Dataframe\", df=test_dfa, tag_col_name=cdfa.tag_col_name, features_col_names=cdfa.features_col_names)\n",
    "\n",
    "train_cdfa.show()\n",
    "validation_cdfa.show()\n",
    "test_cdfa.show()"
   ]
  },
  {
   "cell_type": "markdown",
   "id": "7dbfe5b2-c6e6-4b97-a17e-c72a59be4648",
   "metadata": {},
   "source": [
    "# 11. KNN"
   ]
  },
  {
   "cell_type": "code",
   "execution_count": 477,
   "id": "0acc4d64-a4a5-44ea-a4a7-3a7051c82537",
   "metadata": {},
   "outputs": [
    {
     "name": "stdout",
     "output_type": "stream",
     "text": [
      "     CDR  M/F  SES  Group\n",
      "183  1.0    0  3.0      1\n",
      "341  0.0    1  4.0      0\n",
      "366  0.0    0  3.0      0\n",
      "78   0.0    0  2.0      0\n",
      "297  0.0    0  2.0      0\n",
      "..   ...  ...  ...    ...\n",
      "210  0.5    1  3.0      1\n",
      "212  0.0    0  2.0      0\n",
      "193  0.0    1  1.0      0\n",
      "325  1.0    0  2.0      1\n",
      "169  0.5    1  4.0      1\n",
      "\n",
      "[219 rows x 4 columns]\n",
      "     CDR  M/F  SES  Group\n",
      "293  0.0    0  2.0      0\n",
      "334  0.0    0  1.0      0\n",
      "303  0.0    0  5.0      0\n",
      "261  0.5    1  2.0      1\n",
      "260  0.5    1  1.0      1\n",
      "..   ...  ...  ...    ...\n",
      "166  0.5    1  4.0      1\n",
      "139  1.0    1  3.0      1\n",
      "294  0.0    0  3.0      0\n",
      "132  0.0    0  2.0      0\n",
      "343  0.0    0  2.0      0\n",
      "\n",
      "[47 rows x 4 columns]\n",
      "---( k = 1 )---\n",
      "Accuracy: 1.00\n",
      "Precision: 1.00\n",
      "Recall: 1.00\n",
      "F1 Score: 1.00\n",
      "\n",
      "---( k = 3 )---\n",
      "Accuracy: 1.00\n",
      "Precision: 1.00\n",
      "Recall: 1.00\n",
      "F1 Score: 1.00\n",
      "\n",
      "---( k = 5 )---\n",
      "Accuracy: 1.00\n",
      "Precision: 1.00\n",
      "Recall: 1.00\n",
      "F1 Score: 1.00\n",
      "\n",
      "---( k = 7 )---\n",
      "Accuracy: 1.00\n",
      "Precision: 1.00\n",
      "Recall: 1.00\n",
      "F1 Score: 1.00\n",
      "\n",
      "---( k = 9 )---\n",
      "Accuracy: 0.98\n",
      "Precision: 1.00\n",
      "Recall: 0.91\n",
      "F1 Score: 0.95\n",
      "\n",
      "---( k = 11 )---\n",
      "Accuracy: 0.98\n",
      "Precision: 1.00\n",
      "Recall: 0.91\n",
      "F1 Score: 0.95\n",
      "\n",
      "---( k = 13 )---\n",
      "Accuracy: 0.98\n",
      "Precision: 1.00\n",
      "Recall: 0.91\n",
      "F1 Score: 0.95\n",
      "\n",
      "---( k = 15 )---\n",
      "Accuracy: 0.98\n",
      "Precision: 1.00\n",
      "Recall: 0.91\n",
      "F1 Score: 0.95\n",
      "\n",
      "---( k = 17 )---\n",
      "Accuracy: 0.83\n",
      "Precision: 0.59\n",
      "Recall: 0.91\n",
      "F1 Score: 0.71\n",
      "\n",
      "---( k = 19 )---\n",
      "Accuracy: 0.81\n",
      "Precision: 0.56\n",
      "Recall: 0.82\n",
      "F1 Score: 0.67\n",
      "\n",
      "---( k = 21 )---\n",
      "Accuracy: 0.77\n",
      "Precision: 0.50\n",
      "Recall: 0.64\n",
      "F1 Score: 0.56\n",
      "\n",
      "---( k = 23 )---\n",
      "Accuracy: 0.77\n",
      "Precision: 0.50\n",
      "Recall: 0.64\n",
      "F1 Score: 0.56\n",
      "\n",
      "---( k = 25 )---\n",
      "Accuracy: 0.79\n",
      "Precision: 0.55\n",
      "Recall: 0.55\n",
      "F1 Score: 0.55\n",
      "\n",
      "---( k = 27 )---\n",
      "Accuracy: 0.79\n",
      "Precision: 0.55\n",
      "Recall: 0.55\n",
      "F1 Score: 0.55\n",
      "\n",
      "---( k = 29 )---\n",
      "Accuracy: 0.81\n",
      "Precision: 0.58\n",
      "Recall: 0.64\n",
      "F1 Score: 0.61\n",
      "\n",
      "---( k = 31 )---\n",
      "Accuracy: 0.92\n",
      "Precision: 1.00\n",
      "Recall: 0.64\n",
      "F1 Score: 0.78\n",
      "\n",
      "---( k = 33 )---\n",
      "Accuracy: 0.92\n",
      "Precision: 1.00\n",
      "Recall: 0.64\n",
      "F1 Score: 0.78\n",
      "\n",
      "---( k = 35 )---\n",
      "Accuracy: 0.92\n",
      "Precision: 1.00\n",
      "Recall: 0.64\n",
      "F1 Score: 0.78\n",
      "\n",
      "---( k = 37 )---\n",
      "Accuracy: 0.92\n",
      "Precision: 1.00\n",
      "Recall: 0.64\n",
      "F1 Score: 0.78\n",
      "\n",
      "---( k = 39 )---\n",
      "Accuracy: 0.90\n",
      "Precision: 1.00\n",
      "Recall: 0.55\n",
      "F1 Score: 0.71\n",
      "\n"
     ]
    }
   ],
   "source": [
    "# pd.set_option('display.max_rows', 800)\n",
    "\n",
    "print(train_cdfa.df)\n",
    "print(validation_cdfa.df)\n",
    "\n",
    "for k in range(1, 40, 2):\n",
    "\n",
    "    knn_d = KNeighborsClassifier(n_neighbors=k)\n",
    "    \n",
    "    # Training\n",
    "    x_train = train_cdfa.df[cdfa.features_col_names]\n",
    "    y_train = train_cdfa.df[cdfa.tag_col_name]\n",
    "    \n",
    "    # Validation\n",
    "    x_true = test_cdfa.df[cdfa.features_col_names]\n",
    "    y_true = test_cdfa.df[cdfa.tag_col_name]\n",
    "    \n",
    "    # Train\n",
    "    knn_d.fit(x_train, y_train)\n",
    "    # Validation\n",
    "    y_pred = knn_d.predict(x_true)\n",
    "    \n",
    "    # Scores\n",
    "    print(f\"---( k = {k} )---\")\n",
    "    print_scores(y_true=y_true, y_pred=y_pred)"
   ]
  },
  {
   "cell_type": "markdown",
   "id": "52f75da4-3252-4760-a651-260029046236",
   "metadata": {},
   "source": [
    "# 12. Regresión Logística"
   ]
  },
  {
   "cell_type": "code",
   "execution_count": 478,
   "id": "89315153-22aa-4b94-89a1-70c3ee53ac15",
   "metadata": {},
   "outputs": [
    {
     "name": "stdout",
     "output_type": "stream",
     "text": [
      "Alzheimer Dataset - Logistic Regression Results:\n",
      "Accuracy: 1.00\n",
      "Precision: 1.00\n",
      "Recall: 1.00\n",
      "F1 Score: 1.00\n",
      "\n"
     ]
    }
   ],
   "source": [
    "# Initialize and fit the logistic regression classifier\n",
    "log_reg_a = LogisticRegression(max_iter=1000)\n",
    "log_reg_a.fit(x_train, y_train)\n",
    "\n",
    "# Make predictions\n",
    "y_pred_log_reg_a = log_reg_a.predict(x_true)\n",
    "\n",
    "# Evaluate the logistic regression model\n",
    "print(\"Alzheimer Dataset - Logistic Regression Results:\")\n",
    "print_scores(y_true, y_pred_log_reg_a)"
   ]
  },
  {
   "cell_type": "code",
   "execution_count": 481,
   "id": "894c8780",
   "metadata": {},
   "outputs": [
    {
     "name": "stdout",
     "output_type": "stream",
     "text": [
      "     CDR  M/F  SES\n",
      "0    0.5    1  1.0\n",
      "1    0.0    1  3.0\n",
      "2    0.0    0  1.0\n",
      "4    0.5    0  2.0\n",
      "6    0.5    0  2.0\n",
      "..   ...  ...  ...\n",
      "368  0.0    0  3.0\n",
      "369  0.0    1  1.0\n",
      "370  0.5    1  3.0\n",
      "371  0.0    0  3.0\n",
      "372  0.0    0  2.0\n",
      "\n",
      "[314 rows x 3 columns]\n"
     ]
    }
   ],
   "source": []
  }
 ],
 "metadata": {
  "kernelspec": {
   "display_name": "Python 3 (ipykernel)",
   "language": "python",
   "name": "python3"
  },
  "language_info": {
   "codemirror_mode": {
    "name": "ipython",
    "version": 3
   },
   "file_extension": ".py",
   "mimetype": "text/x-python",
   "name": "python",
   "nbconvert_exporter": "python",
   "pygments_lexer": "ipython3",
   "version": "3.12.1"
  }
 },
 "nbformat": 4,
 "nbformat_minor": 5
}
